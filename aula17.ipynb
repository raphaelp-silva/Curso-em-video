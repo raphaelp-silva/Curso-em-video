{
 "cells": [
  {
   "cell_type": "code",
   "execution_count": 1,
   "metadata": {},
   "outputs": [
    {
     "name": "stdout",
     "output_type": "stream",
     "text": [
      "[9, 7, 6, 2, 1]\n",
      "Esse lista possui 5 elementos.\n"
     ]
    }
   ],
   "source": [
    "num = [1,4,6,8]\n",
    "num[1]= 2\n",
    "num.append(9)\n",
    "num.pop(3)\n",
    "num.insert(1,7)\n",
    "num.sort(reverse=True)\n",
    "print(num)\n",
    "print(f\"Esse lista possui {len(num)} elementos.\")"
   ]
  },
  {
   "cell_type": "code",
   "execution_count": 2,
   "metadata": {},
   "outputs": [
    {
     "name": "stdout",
     "output_type": "stream",
     "text": [
      "Na posição 0, temos o valor 12!\n",
      "Na posição 1, temos o valor 12!\n",
      "Na posição 2, temos o valor 3!\n",
      "Na posição 3, temos o valor 4!\n",
      "finalizei a lista...\n"
     ]
    }
   ],
   "source": [
    "valores = []\n",
    "for cont in range (0,4):\n",
    "    valores.append(int(input(\"Digite um valor: \"))) #adicionando o valor inserido pelo teclado à lista\n",
    "\n",
    "for c, v in enumerate(valores): #enumerate serve para pegar a posicao e o valor incluido nela\n",
    "    print(f\"Na posição {c}, temos o valor {v}!\")\n",
    "print(\"finalizei a lista...\")"
   ]
  },
  {
   "cell_type": "code",
   "execution_count": 6,
   "metadata": {},
   "outputs": [
    {
     "name": "stdout",
     "output_type": "stream",
     "text": [
      "lista[2, 3, 4, 7]\n",
      "lista[2, 3, 8, 7]\n"
     ]
    }
   ],
   "source": [
    "a = [2,3,4,7]\n",
    "b = a[:] #estou criando uma cópia da lista a e atribuindo ao b (se não fizer assim, eu crio uma ligação entre as duas listas)\n",
    "b[2] = 8\n",
    "print(f\"lista{a}\")\n",
    "print(f\"lista{b}\")"
   ]
  }
 ],
 "metadata": {
  "kernelspec": {
   "display_name": "Python 3",
   "language": "python",
   "name": "python3"
  },
  "language_info": {
   "codemirror_mode": {
    "name": "ipython",
    "version": 3
   },
   "file_extension": ".py",
   "mimetype": "text/x-python",
   "name": "python",
   "nbconvert_exporter": "python",
   "pygments_lexer": "ipython3",
   "version": "3.12.1"
  }
 },
 "nbformat": 4,
 "nbformat_minor": 2
}
