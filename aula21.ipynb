{
 "cells": [
  {
   "cell_type": "markdown",
   "metadata": {},
   "source": [
    "Nesta aula vamos explorar os conceitos teóricos e aplicar na prática os seguintes tópicos:\n",
    "-> Interactive Help\n",
    "-> docstrings\n",
    "-> argumentos opcionais\n",
    "-> retorno de funções"
   ]
  },
  {
   "cell_type": "markdown",
   "metadata": {},
   "source": [
    "Interactive help é um modo interativo de consultar a documentação pelo nosso programa ou direto pelo terminal do Python.\n",
    "podemos consultar a documentação chamando a função help() direto no nosso programa, ou no terminal do Python chamando help\"print\"(por exemplo)."
   ]
  },
  {
   "cell_type": "code",
   "execution_count": 1,
   "metadata": {},
   "outputs": [
    {
     "name": "stdout",
     "output_type": "stream",
     "text": [
      "Help on built-in function print in module builtins:\n",
      "\n",
      "print(*args, sep=' ', end='\\n', file=None, flush=False)\n",
      "    Prints the values to a stream, or to sys.stdout by default.\n",
      "\n",
      "    sep\n",
      "      string inserted between values, default a space.\n",
      "    end\n",
      "      string appended after the last value, default a newline.\n",
      "    file\n",
      "      a file-like object (stream); defaults to the current sys.stdout.\n",
      "    flush\n",
      "      whether to forcibly flush the stream.\n",
      "\n"
     ]
    }
   ],
   "source": [
    "help(print)"
   ]
  },
  {
   "cell_type": "markdown",
   "metadata": {},
   "source": [
    "Docstrings é a maneira de consultar ou documentar o \"manual\" de uma função. \n",
    "Podemos documentar isso na próxima linha abaixo da declaração da função, colocando nossa docstrign dentro de três apas duplas. \n",
    "Segue o exemplo de declaração de uma docstring abaixo:"
   ]
  },
  {
   "cell_type": "code",
   "execution_count": 6,
   "metadata": {},
   "outputs": [
    {
     "name": "stdout",
     "output_type": "stream",
     "text": [
      "O fatorial de 5 é igual a 120\n",
      "Help on function fatorial in module __main__:\n",
      "\n",
      "fatorial(num=1)\n",
      "    -> essa função calcula o número fatorial do número inserido pelo usuário, caso o núemro seja nulo, a função por padrão adota o valor 1.\n",
      "    f = fatorial\n",
      "    c = contador\n",
      "    n = número inserido pelo usuário\n",
      "\n"
     ]
    }
   ],
   "source": [
    "def fatorial(num=1):\n",
    "    \"\"\"\n",
    "    -> essa função calcula o número fatorial do número inserido pelo usuário, caso o núemro seja nulo, a função por padrão adota o valor 1.\n",
    "    f = fatorial\n",
    "    c = contador \n",
    "    n = número inserido pelo usuário \n",
    "    \"\"\"\n",
    "    f = 1 \n",
    "    for c in range(num, 0, -1):\n",
    "        f *= c\n",
    "    return f\n",
    "\n",
    "\n",
    "n = int(input(\"Digite um número: \"))\n",
    "print(f'O fatorial de {n} é igual a {fatorial(n)}')\n",
    "help(fatorial)"
   ]
  },
  {
   "cell_type": "markdown",
   "metadata": {},
   "source": [
    "Estamos criando uma função que resulta em fatorial de um número inserido pelo usuário retornando o resultado para o programa principal.\n",
    "Nesta função estamos explorando os conceitos de \"Valor opcional\" e \"Retorno de função\". "
   ]
  },
  {
   "cell_type": "code",
   "execution_count": 1,
   "metadata": {},
   "outputs": [
    {
     "name": "stdout",
     "output_type": "stream",
     "text": [
      "O fatorial de 5 é igual a 120\n"
     ]
    }
   ],
   "source": [
    "def fatorial(num=1):\n",
    "    f = 1 \n",
    "    for c in range(num, 0, -1):\n",
    "        f *= c\n",
    "    return f\n",
    "\n",
    "\n",
    "n = int(input(\"Digite um número: \"))\n",
    "print(f'O fatorial de {n} é igual a {fatorial(n)}')"
   ]
  },
  {
   "cell_type": "markdown",
   "metadata": {},
   "source": [
    "Em outro exemplo, focado no retorno da função, podemos ver que esse return pode acontecer com números, strings, listas, dicionarios, tuplas e boolenos também. vejamos no exemplo:"
   ]
  },
  {
   "cell_type": "code",
   "execution_count": 3,
   "metadata": {},
   "outputs": [
    {
     "name": "stdout",
     "output_type": "stream",
     "text": [
      "Não é par!\n"
     ]
    }
   ],
   "source": [
    "def par(n=0):\n",
    "    if n % 2 ==0:\n",
    "        return True\n",
    "    else:\n",
    "        return False\n",
    "    \n",
    "\n",
    "num = int(input(\"digite um número: \"))\n",
    "if par(num):\n",
    "    print(\"É par!\")\n",
    "else:\n",
    "    print(\"Não é par!\")\n"
   ]
  }
 ],
 "metadata": {
  "kernelspec": {
   "display_name": "Python 3",
   "language": "python",
   "name": "python3"
  },
  "language_info": {
   "codemirror_mode": {
    "name": "ipython",
    "version": 3
   },
   "file_extension": ".py",
   "mimetype": "text/x-python",
   "name": "python",
   "nbconvert_exporter": "python",
   "pygments_lexer": "ipython3",
   "version": "3.12.1"
  }
 },
 "nbformat": 4,
 "nbformat_minor": 2
}
