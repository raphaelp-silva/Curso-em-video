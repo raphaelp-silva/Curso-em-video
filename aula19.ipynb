{
 "cells": [
  {
   "cell_type": "code",
   "execution_count": 4,
   "metadata": {},
   "outputs": [
    {
     "name": "stdout",
     "output_type": "stream",
     "text": [
      "O Raphael tem 29 anos...\n",
      "dict_keys(['nome', 'sexo', 'idade'])\n",
      "dict_values(['Raphael', 'M', '29'])\n",
      "dict_items([('nome', 'Raphael'), ('sexo', 'M'), ('idade', '29')])\n"
     ]
    }
   ],
   "source": [
    "pessoas = {'nome': 'Raphael', 'sexo': 'M', 'idade': '29'}\n",
    "print(f\"O {pessoas['nome']} tem {pessoas['idade']} anos...\")\n",
    "print(pessoas.keys()) #exibe as chaves do dicionario\n",
    "print(pessoas.values()) #exibe os valores do dicionario\n",
    "print(pessoas.items()) #exive os itens (chaves e valores) do dicionario"
   ]
  },
  {
   "cell_type": "markdown",
   "metadata": {},
   "source": [
    "Em dicionários não utilizamos 'enumerate', utilizamos o '.items()' como no exemplo abaixo: "
   ]
  },
  {
   "cell_type": "code",
   "execution_count": 5,
   "metadata": {},
   "outputs": [
    {
     "name": "stdout",
     "output_type": "stream",
     "text": [
      "nome = Raphael\n",
      "sexo = M\n",
      "idade = 29\n"
     ]
    }
   ],
   "source": [
    "pessoas = {'nome': 'Raphael', 'sexo': 'M', 'idade': '29'}\n",
    "for k, v in pessoas.items():\n",
    "    print(f\"{k} = {v}\")"
   ]
  },
  {
   "cell_type": "markdown",
   "metadata": {},
   "source": [
    "Exemplo de utilização do 'del' para deletar algo do dicionario:"
   ]
  },
  {
   "cell_type": "code",
   "execution_count": 1,
   "metadata": {},
   "outputs": [
    {
     "name": "stdout",
     "output_type": "stream",
     "text": [
      "nome = Raphael\n",
      "idade = 29\n"
     ]
    }
   ],
   "source": [
    "pessoas = {'nome': 'Raphael', 'sexo': 'M', 'idade': '29'}\n",
    "del pessoas['sexo'] #deletando um atributo do dicionario \n",
    "for k, v in pessoas.items():\n",
    "    print(f'{k} = {v}')"
   ]
  },
  {
   "cell_type": "markdown",
   "metadata": {},
   "source": [
    "Podemos passar um novo valor direto para a chave em um dicionario, exemplo a seguir:"
   ]
  },
  {
   "cell_type": "code",
   "execution_count": 2,
   "metadata": {},
   "outputs": [
    {
     "name": "stdout",
     "output_type": "stream",
     "text": [
      "nome = Leandro\n",
      "sexo = M\n",
      "idade = 29\n"
     ]
    }
   ],
   "source": [
    "pessoas = {'nome': 'Raphael', 'sexo': 'M', 'idade': '29'}\n",
    "pessoas['nome'] = 'Leandro' #atribuindo um novo valor à chave nome\n",
    "for k, v in pessoas.items():\n",
    "    print(f'{k} = {v}')"
   ]
  },
  {
   "cell_type": "markdown",
   "metadata": {},
   "source": [
    "Podemos adicionar um novo atributo ao dicionário da seguinte forma:"
   ]
  },
  {
   "cell_type": "code",
   "execution_count": 3,
   "metadata": {},
   "outputs": [
    {
     "name": "stdout",
     "output_type": "stream",
     "text": [
      "nome = Raphael\n",
      "sexo = M\n",
      "idade = 29\n",
      "Peso = 98.5\n"
     ]
    }
   ],
   "source": [
    "pessoas = {'nome': 'Raphael', 'sexo': 'M', 'idade': '29'}\n",
    "pessoas['Peso'] = 98.5 #Adicionando um novo atributo ao dicionário\n",
    "for k, v in pessoas.items():\n",
    "    print(f'{k} = {v}')"
   ]
  },
  {
   "cell_type": "markdown",
   "metadata": {},
   "source": [
    "Vamos criar uma lista que é composta por 2 dicionários para visualizarmos um exemplo de uso desses casos:"
   ]
  },
  {
   "cell_type": "code",
   "execution_count": 3,
   "metadata": {},
   "outputs": [
    {
     "name": "stdout",
     "output_type": "stream",
     "text": [
      "SP\n"
     ]
    }
   ],
   "source": [
    "brasil = [] #criando a lista vazia\n",
    "estado1 = {'uf': 'Rio de Janeiro', 'sigla': 'RJ'} #criando dicionario \n",
    "estado2 = {'uf': 'São Paulo', 'sigla': 'SP'} #criando dicionario\n",
    "brasil.append(estado1) #adicionando dicionario à lista brasil\n",
    "brasil.append(estado2) #adicionando dicionario à lista brasil\n",
    "print(brasil[1]['sigla']) #exibindo sigla do dicionairo "
   ]
  },
  {
   "cell_type": "markdown",
   "metadata": {},
   "source": [
    "Como podemos criar uma cópia do docionário para adicioná-lo à lista? \n",
    "Nas tuplas e listas utilizamos '[:]' porém esse fatiamento não pode ser usado em dicionário, por isso utilizamos uma função\n",
    "interna chamada através de 'copy()' segue exemplo: "
   ]
  },
  {
   "cell_type": "code",
   "execution_count": null,
   "metadata": {},
   "outputs": [],
   "source": [
    "estado = dict()\n",
    "brasil = list()\n",
    "for c in range (0,3):\n",
    "    estado['uf'] = str(input(\"Unidade federativa: \"))\n",
    "    estado['sigla'] = str(input(\"Sigla do estado: \"))\n",
    "    brasil.append(estado.copy()) #Aqui está a forma de fazer a cópia para a lista\n",
    "print(brasil)"
   ]
  }
 ],
 "metadata": {
  "kernelspec": {
   "display_name": "Python 3",
   "language": "python",
   "name": "python3"
  },
  "language_info": {
   "codemirror_mode": {
    "name": "ipython",
    "version": 3
   },
   "file_extension": ".py",
   "mimetype": "text/x-python",
   "name": "python",
   "nbconvert_exporter": "python",
   "pygments_lexer": "ipython3",
   "version": "3.12.1"
  }
 },
 "nbformat": 4,
 "nbformat_minor": 2
}
