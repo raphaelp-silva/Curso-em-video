{
 "cells": [
  {
   "cell_type": "markdown",
   "metadata": {},
   "source": [
    "Aula de tratamento de erros e exceções\n",
    "\n",
    "criando um exercicio onde tentaremos fazer uma divisão entre 2 números e testando os possíveis erros (dividir por uma string, ou dividir por 0) e trataremos os erros personalizando as mensagens de acordo com a classe da exceção. \n",
    "\n",
    "try -> abre o bloco de tentativa de execucao \n",
    "except -> trata a exceção com a mensagem personalizada (neste exemplo)\n",
    "else -> caso não caia na exceção, o bloco else é executado.\n",
    "finally -> é executado independete se na excecção ou no else."
   ]
  },
  {
   "cell_type": "code",
   "execution_count": 2,
   "metadata": {},
   "outputs": [
    {
     "name": "stdout",
     "output_type": "stream",
     "text": [
      "Não é possível dividir um número por zero!\n",
      "Volte sempre! muito obrigado!\n"
     ]
    }
   ],
   "source": [
    "try: \n",
    "    a = int(input(\"numerador: \"))\n",
    "    b = int(input(\"denominador: \"))\n",
    "    r = a / b\n",
    "except (ValueError, TypeError):\n",
    "    print('Tivemos um problema com os tipos de dados que você digitou.')\n",
    "except ZeroDivisionError:\n",
    "    print('Não é possível dividir um número por zero!')\n",
    "except KeyboardInterrupt:\n",
    "    print('O usuário preferiu não informar os dados!')\n",
    "except Exception as erro: #tratando o erro e exibindo a causa do erro (usar durante o desenvolvimento para capturar o erro.)\n",
    "    print(f'O erro encontrado foi : {erro.__cause__}')\n",
    "else:\n",
    "    print(f'O resultado é {r}')\n",
    "finally:\n",
    "    print('Volte sempre! muito obrigado!')\n"
   ]
  }
 ],
 "metadata": {
  "kernelspec": {
   "display_name": "Python 3",
   "language": "python",
   "name": "python3"
  },
  "language_info": {
   "codemirror_mode": {
    "name": "ipython",
    "version": 3
   },
   "file_extension": ".py",
   "mimetype": "text/x-python",
   "name": "python",
   "nbconvert_exporter": "python",
   "pygments_lexer": "ipython3",
   "version": "3.12.1"
  }
 },
 "nbformat": 4,
 "nbformat_minor": 2
}
