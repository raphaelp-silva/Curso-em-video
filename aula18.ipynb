{
 "cells": [
  {
   "cell_type": "markdown",
   "metadata": {},
   "source": [
    "Essa é a sintaxe de definição e consulta de listas dentro de listas: "
   ]
  },
  {
   "cell_type": "code",
   "execution_count": 4,
   "metadata": {},
   "outputs": [
    {
     "name": "stdout",
     "output_type": "stream",
     "text": [
      "Pedro\n",
      "19\n",
      "João\n",
      "['Maria', 19]\n"
     ]
    }
   ],
   "source": [
    "pessoas = [['Pedro',25],['Maria',19],['João',32]]\n",
    "print(pessoas[0][0])\n",
    "print(pessoas[1][1])\n",
    "print(pessoas[2][0])\n",
    "print(pessoas[1])"
   ]
  },
  {
   "cell_type": "markdown",
   "metadata": {},
   "source": [
    "Agora vamos praticar de uma forma diferente, vamos criar 2 listas e fazer alterações nas listas para ver como ela se comporta: "
   ]
  },
  {
   "cell_type": "code",
   "execution_count": 7,
   "metadata": {},
   "outputs": [
    {
     "name": "stdout",
     "output_type": "stream",
     "text": [
      "[['Maria', 22], ['Maria', 22]]\n"
     ]
    }
   ],
   "source": [
    "teste = list()\n",
    "teste.append(\"Raphael\")\n",
    "teste.append(40)\n",
    "galera = list()\n",
    "galera.append(teste)\n",
    "teste[0] = 'Maria'\n",
    "teste[1] = 22\n",
    "galera.append(teste)\n",
    "print(galera)"
   ]
  },
  {
   "cell_type": "markdown",
   "metadata": {},
   "source": [
    "Vejamos que ao fazer essa alteração no nome e idade na lista 'teste' eu modifiquei também os dados da lista 'galera'.\n",
    "Eu não apenas adicionei uma cópia da lista 'teste' à lista galera, eu criei uma conexão entre as duas.\n",
    "A Resolução desse caso é utilizar o [:] no append das listas, o mesmo cria uma cópia da lista, veja abaixo (confira o resultado): "
   ]
  },
  {
   "cell_type": "code",
   "execution_count": 1,
   "metadata": {},
   "outputs": [
    {
     "name": "stdout",
     "output_type": "stream",
     "text": [
      "[['Raphael', 40], ['Maria', 22]]\n"
     ]
    }
   ],
   "source": [
    "teste = list()\n",
    "teste.append(\"Raphael\")\n",
    "teste.append(40)\n",
    "galera = list()\n",
    "galera.append(teste[:])\n",
    "teste[0] = 'Maria'\n",
    "teste[1] = 22\n",
    "galera.append(teste[:])\n",
    "print(galera)"
   ]
  },
  {
   "cell_type": "markdown",
   "metadata": {},
   "source": [
    "Vejamos outros usos para listas dentro de listas:"
   ]
  },
  {
   "cell_type": "code",
   "execution_count": 2,
   "metadata": {},
   "outputs": [
    {
     "name": "stdout",
     "output_type": "stream",
     "text": [
      "O Lucas tem 19 anos de idade.\n",
      "O Mariana tem 24 anos de idade.\n",
      "O Larissa tem 31 anos de idade.\n",
      "O Raphael tem 29 anos de idade.\n",
      "O Cristiane tem 36 anos de idade.\n"
     ]
    }
   ],
   "source": [
    "lista_nomes = [['Lucas', 19],['Mariana', 24], ['Larissa', 31], ['Raphael', 29], ['Cristiane', 36]]\n",
    "for p in lista_nomes:\n",
    "    print(f'O {p[0]} tem {p[1]} anos de idade.')"
   ]
  }
 ],
 "metadata": {
  "kernelspec": {
   "display_name": "Python 3",
   "language": "python",
   "name": "python3"
  },
  "language_info": {
   "codemirror_mode": {
    "name": "ipython",
    "version": 3
   },
   "file_extension": ".py",
   "mimetype": "text/x-python",
   "name": "python",
   "nbconvert_exporter": "python",
   "pygments_lexer": "ipython3",
   "version": "3.12.1"
  }
 },
 "nbformat": 4,
 "nbformat_minor": 2
}
