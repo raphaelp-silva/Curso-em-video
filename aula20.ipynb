{
 "cells": [
  {
   "cell_type": "markdown",
   "metadata": {},
   "source": [
    "# Aula de Funçoes em Python. \n",
    "\n",
    "-> Sintaxe de funções sem parâmetros:"
   ]
  },
  {
   "cell_type": "code",
   "execution_count": 3,
   "metadata": {},
   "outputs": [
    {
     "name": "stdout",
     "output_type": "stream",
     "text": [
      "-=-=-=-=-=-=-=-=-=-=\n",
      "Hello world\n",
      "-=-=-=-=-=-=-=-=-=-=\n"
     ]
    }
   ],
   "source": [
    "def linha():\n",
    "    print(\"-=\" * 10)\n",
    "\n",
    "linha()\n",
    "print(\"Hello world\")\n",
    "linha()"
   ]
  },
  {
   "cell_type": "markdown",
   "metadata": {},
   "source": [
    "-> Sintaxe de funções com parâmetros:"
   ]
  },
  {
   "cell_type": "code",
   "execution_count": 4,
   "metadata": {},
   "outputs": [
    {
     "name": "stdout",
     "output_type": "stream",
     "text": [
      "-=-=-=-=-=-=-=-=-=-=\n",
      "Raphael Paulo\n",
      "-=-=-=-=-=-=-=-=-=-=\n"
     ]
    }
   ],
   "source": [
    "def titulo(txt):\n",
    "    print(\"-=\" *10)\n",
    "    print(txt)\n",
    "    print(\"-=\" *10)\n",
    "\n",
    "titulo(\"Raphael Paulo\")"
   ]
  },
  {
   "cell_type": "markdown",
   "metadata": {},
   "source": [
    "-> Sintaxe de funções com um número de parâmetros desconhecidos: \n",
    " * é um desempacotador em python"
   ]
  },
  {
   "cell_type": "code",
   "execution_count": 6,
   "metadata": {},
   "outputs": [
    {
     "name": "stdout",
     "output_type": "stream",
     "text": [
      " 2 1 7 FIM!!!\n",
      " 5 2 FIM!!!\n",
      " 4 4 6 2 9 10 FIM!!!\n"
     ]
    }
   ],
   "source": [
    "def contador(* num):\n",
    "    for valor in num:\n",
    "        print(f\" {valor}\", end = '')\n",
    "    print(\" FIM!!!\")\n",
    "\n",
    "\n",
    "contador(2, 1, 7)\n",
    "contador(5, 2)\n",
    "contador(4, 4, 6, 2, 9, 10)"
   ]
  },
  {
   "cell_type": "markdown",
   "metadata": {},
   "source": [
    "-> Sintaxe utilizando uma funçao de dobrar uma lista (por exemplo):"
   ]
  },
  {
   "cell_type": "code",
   "execution_count": 7,
   "metadata": {},
   "outputs": [
    {
     "name": "stdout",
     "output_type": "stream",
     "text": [
      "[14, 4, 10, 0, 8]\n"
     ]
    }
   ],
   "source": [
    "def dobra(lst):\n",
    "    pos = 0\n",
    "    while pos < len(lst):\n",
    "        lst[pos] *= 2\n",
    "        pos += 1\n",
    "\n",
    "valores = [7,2,5,0,4]\n",
    "dobra(valores)\n",
    "print(valores)"
   ]
  }
 ],
 "metadata": {
  "kernelspec": {
   "display_name": "Python 3",
   "language": "python",
   "name": "python3"
  },
  "language_info": {
   "codemirror_mode": {
    "name": "ipython",
    "version": 3
   },
   "file_extension": ".py",
   "mimetype": "text/x-python",
   "name": "python",
   "nbconvert_exporter": "python",
   "pygments_lexer": "ipython3",
   "version": "3.12.1"
  }
 },
 "nbformat": 4,
 "nbformat_minor": 2
}
